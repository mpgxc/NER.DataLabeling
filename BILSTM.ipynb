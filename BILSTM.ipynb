{
 "cells": [
  {
   "cell_type": "code",
   "execution_count": null,
   "id": "national-nicaragua",
   "metadata": {},
   "outputs": [],
   "source": [
    "import os\n",
    "os.environ['DISABLE_V2_BEHAVIOR'] = '1'"
   ]
  },
  {
   "cell_type": "code",
   "execution_count": null,
   "id": "recent-jordan",
   "metadata": {},
   "outputs": [],
   "source": [
    "import warnings\n",
    "warnings.filterwarnings('ignore')"
   ]
  },
  {
   "cell_type": "code",
   "execution_count": null,
   "id": "wound-slovakia",
   "metadata": {},
   "outputs": [],
   "source": [
    "import ktrain\n",
    "from ktrain import text as txt"
   ]
  },
  {
   "cell_type": "code",
   "execution_count": null,
   "id": "related-hawaii",
   "metadata": {},
   "outputs": [],
   "source": [
    "# load data\n",
    "(trn, val, preproc) = txt.entities_from_txt('DATA_ANNOTATED.csv',\n",
    "                                            sentence_column='Sentence',\n",
    "                                            word_column='Word',\n",
    "                                            tag_column='Tag', \n",
    "                                            data_format='gmb',\n",
    "                                            use_char=True)"
   ]
  },
  {
   "cell_type": "code",
   "execution_count": null,
   "id": "surrounded-swing",
   "metadata": {},
   "outputs": [],
   "source": [
    "model = txt.sequence_tagger('bilstm-crf', preproc)"
   ]
  },
  {
   "cell_type": "code",
   "execution_count": null,
   "id": "analyzed-flower",
   "metadata": {},
   "outputs": [],
   "source": [
    "learner = ktrain.get_learner(model, train_data=trn, val_data=val)"
   ]
  },
  {
   "cell_type": "code",
   "execution_count": null,
   "id": "satellite-narrative",
   "metadata": {},
   "outputs": [],
   "source": [
    "history = learner.fit(lr=1e-3, n_cycles=2, cycle_len=3) "
   ]
  },
  {
   "cell_type": "code",
   "execution_count": null,
   "id": "bearing-commissioner",
   "metadata": {},
   "outputs": [],
   "source": [
    "learner.validate(class_names=preproc.get_classes())"
   ]
  },
  {
   "cell_type": "markdown",
   "id": "instrumental-attempt",
   "metadata": {},
   "source": [
    "### Prevendo novas frases"
   ]
  },
  {
   "cell_type": "code",
   "execution_count": null,
   "id": "higher-artwork",
   "metadata": {},
   "outputs": [],
   "source": [
    "predictor = ktrain.get_predictor(learner.model, preproc)"
   ]
  },
  {
   "cell_type": "code",
   "execution_count": null,
   "id": "strange-exploration",
   "metadata": {},
   "outputs": [],
   "source": [
    "predictor.predict('As of 2019, Donald Trump is still the President of the United States.')"
   ]
  },
  {
   "cell_type": "code",
   "execution_count": null,
   "id": "accurate-inventory",
   "metadata": {},
   "outputs": [],
   "source": []
  }
 ],
 "metadata": {
  "kernelspec": {
   "display_name": "Python 3",
   "language": "python",
   "name": "python3"
  },
  "language_info": {
   "codemirror_mode": {
    "name": "ipython",
    "version": 3
   },
   "file_extension": ".py",
   "mimetype": "text/x-python",
   "name": "python",
   "nbconvert_exporter": "python",
   "pygments_lexer": "ipython3",
   "version": "3.8.5"
  }
 },
 "nbformat": 4,
 "nbformat_minor": 5
}
