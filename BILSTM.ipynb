{
 "cells": [
  {
   "cell_type": "code",
   "execution_count": 1,
   "id": "numeric-motel",
   "metadata": {
    "id": "national-nicaragua"
   },
   "outputs": [],
   "source": [
    "import os\n",
    "os.environ['DISABLE_V2_BEHAVIOR'] = '1'"
   ]
  },
  {
   "cell_type": "code",
   "execution_count": 2,
   "id": "infinite-mills",
   "metadata": {
    "id": "recent-jordan"
   },
   "outputs": [],
   "source": [
    "import warnings\n",
    "warnings.filterwarnings('ignore')"
   ]
  },
  {
   "cell_type": "code",
   "execution_count": 3,
   "id": "utility-chair",
   "metadata": {
    "colab": {
     "base_uri": "https://localhost:8080/"
    },
    "id": "wound-slovakia",
    "outputId": "eec7685d-4632-43bc-ca5d-540f36308ffd"
   },
   "outputs": [
    {
     "name": "stdout",
     "output_type": "stream",
     "text": [
      "WARNING:tensorflow:From /usr/local/lib/python3.7/dist-packages/tensorflow/python/compat/v2_compat.py:96: disable_resource_variables (from tensorflow.python.ops.variable_scope) is deprecated and will be removed in a future version.\n",
      "Instructions for updating:\n",
      "non-resource variables are not supported in the long term\n",
      "Using DISABLE_V2_BEHAVIOR with TensorFlow\n"
     ]
    }
   ],
   "source": [
    "import ktrain\n",
    "from ktrain import text as txt"
   ]
  },
  {
   "cell_type": "code",
   "execution_count": 4,
   "id": "ahead-breakdown",
   "metadata": {
    "colab": {
     "base_uri": "https://localhost:8080/"
    },
    "id": "related-hawaii",
    "outputId": "526c96cf-3d6f-4f0e-c076-9e0f84014dd8"
   },
   "outputs": [
    {
     "name": "stdout",
     "output_type": "stream",
     "text": [
      "detected encoding: utf-8 (if wrong, set manually)\n",
      "Number of sentences:  28834\n",
      "Number of words in the dataset:  63950\n",
      "Tags: ['B-LANGUAGE', 'O', 'B-ORG', 'I-EVENT', 'B-PRODUCT', 'B-LAW', 'I-TIME', 'I-CARDINAL', 'B-MONEY', 'I-MONEY', 'B-PER', 'I-ORG', 'I-WORK_OF_ART', 'I-DATE', 'I-NORP', 'B-QUANTITY', 'B-CARDINAL', 'I-QUANTITY', 'I-PER', 'B-PERCENT', 'B-TIME', 'B-LOC', 'I-PERCENT', 'I-PRODUCT', 'I-LAW', 'B-NORP', 'B-WORK_OF_ART', 'B-ORDINAL', 'I-LOC', 'B-DATE', 'B-EVENT']\n",
      "Number of Labels:  31\n",
      "Longest sentence: 74 words\n"
     ]
    }
   ],
   "source": [
    "# load data\n",
    "(trn, val, preproc) = txt.entities_from_txt('data/custom/DATA_ANNOTATED.csv',\n",
    "                                            sentence_column='Sentence',\n",
    "                                            word_column='Word',\n",
    "                                            tag_column='Tag', \n",
    "                                            data_format='gmb',\n",
    "                                            use_char=True)"
   ]
  },
  {
   "cell_type": "code",
   "execution_count": 5,
   "id": "outdoor-program",
   "metadata": {
    "colab": {
     "base_uri": "https://localhost:8080/"
    },
    "id": "surrounded-swing",
    "outputId": "54021879-95c5-4390-e0ac-c93ba6266382"
   },
   "outputs": [
    {
     "name": "stdout",
     "output_type": "stream",
     "text": [
      "Embedding schemes employed (combined with concatenation):\n",
      "\tword embeddings initialized randomly\n",
      "\tcharacter embeddings\n",
      "\n"
     ]
    }
   ],
   "source": [
    "model = txt.sequence_tagger('bilstm-crf', preproc)"
   ]
  },
  {
   "cell_type": "code",
   "execution_count": 6,
   "id": "formal-rider",
   "metadata": {
    "id": "analyzed-flower"
   },
   "outputs": [],
   "source": [
    "learner = ktrain.get_learner(model, train_data=trn, val_data=val)"
   ]
  },
  {
   "cell_type": "code",
   "execution_count": 7,
   "id": "opened-briefs",
   "metadata": {
    "colab": {
     "base_uri": "https://localhost:8080/",
     "height": 453
    },
    "id": "bxVZhPCCVDeO",
    "outputId": "3eef9e6c-4faa-4d73-944e-9237cb02a72d"
   },
   "outputs": [
    {
     "name": "stdout",
     "output_type": "stream",
     "text": [
      "simulating training for different learning rates... this may take a few moments...\n",
      "preparing training data ...done.\n",
      "Epoch 1/2\n",
      "810/810 [==============================] - 230s 278ms/step - batch: 404.5000 - size: 31.9975 - loss: 10.6721\n",
      "Epoch 2/2\n",
      "810/810 [==============================] - 229s 283ms/step - batch: 404.5000 - size: 31.9975 - loss: nan\n",
      "\n",
      "\n",
      "done.\n",
      "Visually inspect loss plot and select learning rate associated with falling loss\n"
     ]
    },
    {
     "data": {
      "image/png": "[encoded data removed]",
      "text/plain": [
       "<Figure size 432x288 with 1 Axes>"
      ]
     },
     "metadata": {
      "needs_background": "light",
      "tags": []
     },
     "output_type": "display_data"
    }
   ],
   "source": [
    "learner.lr_find(show_plot=True, max_epochs=2)"
   ]
  },
  {
   "cell_type": "code",
   "execution_count": 8,
   "id": "secure-fisher",
   "metadata": {
    "colab": {
     "base_uri": "https://localhost:8080/"
    },
    "id": "satellite-narrative",
    "outputId": "ef5b96cd-35db-4f3e-af87-d6a76babf780"
   },
   "outputs": [
    {
     "name": "stdout",
     "output_type": "stream",
     "text": [
      "preparing validation data ...done.\n",
      "Epoch 1/14\n",
      "811/811 [==============================] - 241s 291ms/step - batch: 405.0000 - size: 31.9975 - loss: 8.4162 - val_loss: 8.2774\n",
      "Epoch 2/14\n",
      "811/811 [==============================] - 235s 290ms/step - batch: 405.0000 - size: 31.9975 - loss: 8.2468 - val_loss: 8.2723\n",
      "Epoch 3/14\n",
      "811/811 [==============================] - 237s 292ms/step - batch: 405.0000 - size: 31.9975 - loss: 8.2083 - val_loss: 8.2822\n",
      "Epoch 4/14\n",
      "811/811 [==============================] - 237s 292ms/step - batch: 405.0000 - size: 31.9975 - loss: 8.1857 - val_loss: 8.2815\n",
      "Epoch 5/14\n",
      "811/811 [==============================] - 235s 289ms/step - batch: 405.0000 - size: 31.9975 - loss: 8.1672 - val_loss: 8.2913\n",
      "Epoch 6/14\n",
      "811/811 [==============================] - 235s 290ms/step - batch: 405.0000 - size: 31.9975 - loss: 8.1559 - val_loss: 8.2944\n",
      "Epoch 7/14\n",
      "811/811 [==============================] - 237s 292ms/step - batch: 405.0000 - size: 31.9975 - loss: 8.1507 - val_loss: 8.2963\n",
      "Epoch 8/14\n",
      "811/811 [==============================] - 238s 293ms/step - batch: 405.0000 - size: 31.9975 - loss: 8.2098 - val_loss: 8.3128\n",
      "Epoch 9/14\n",
      "811/811 [==============================] - 235s 290ms/step - batch: 405.0000 - size: 31.9975 - loss: 8.2100 - val_loss: 8.3060\n",
      "Epoch 10/14\n",
      "811/811 [==============================] - 241s 298ms/step - batch: 405.0000 - size: 31.9975 - loss: 8.1971 - val_loss: 8.3039\n",
      "Epoch 11/14\n",
      "811/811 [==============================] - 235s 290ms/step - batch: 405.0000 - size: 31.9975 - loss: 8.1845 - val_loss: 8.3066\n",
      "Epoch 12/14\n",
      "811/811 [==============================] - 237s 293ms/step - batch: 405.0000 - size: 31.9975 - loss: 8.1726 - val_loss: 8.3134\n",
      "Epoch 13/14\n",
      "811/811 [==============================] - 236s 290ms/step - batch: 405.0000 - size: 31.9975 - loss: 8.1655 - val_loss: 8.3103\n",
      "Epoch 14/14\n",
      "811/811 [==============================] - 235s 290ms/step - batch: 405.0000 - size: 31.9975 - loss: 8.1616 - val_loss: 8.3106\n"
     ]
    }
   ],
   "source": [
    "history = learner.fit(lr=1e-2, n_cycles=2, cycle_len=7) "
   ]
  },
  {
   "cell_type": "code",
   "execution_count": 9,
   "id": "reflected-harmony",
   "metadata": {
    "colab": {
     "base_uri": "https://localhost:8080/"
    },
    "id": "bearing-commissioner",
    "outputId": "17fadbd9-b438-4f7e-db08-520fcb39214c"
   },
   "outputs": [
    {
     "name": "stdout",
     "output_type": "stream",
     "text": [
      "   F1:  68.78\n",
      "              precision    recall  f1-score   support\n",
      "\n",
      "    CARDINAL       0.71      0.79      0.75       576\n",
      "        DATE       0.76      0.80      0.78       861\n",
      "       EVENT       0.58      0.48      0.53       116\n",
      "    LANGUAGE       1.00      0.50      0.67        12\n",
      "         LAW       0.00      0.00      0.00         1\n",
      "         LOC       0.76      0.79      0.78      1166\n",
      "       MONEY       0.50      0.46      0.48        13\n",
      "        NORP       0.79      0.69      0.73       151\n",
      "     ORDINAL       0.85      0.98      0.91       140\n",
      "         ORG       0.59      0.54      0.56       768\n",
      "         PER       0.62      0.68      0.65      1530\n",
      "     PERCENT       1.00      1.00      1.00         2\n",
      "     PRODUCT       0.28      0.25      0.27        68\n",
      "    QUANTITY       0.73      0.66      0.69        65\n",
      "        TIME       0.72      0.73      0.72       304\n",
      " WORK_OF_ART       0.16      0.13      0.14       141\n",
      "\n",
      "   micro avg       0.68      0.70      0.69      5914\n",
      "   macro avg       0.63      0.59      0.60      5914\n",
      "weighted avg       0.67      0.70      0.68      5914\n",
      "\n"
     ]
    },
    {
     "data": {
      "text/plain": [
       "0.6877865777407253"
      ]
     },
     "execution_count": 9,
     "metadata": {
      "tags": []
     },
     "output_type": "execute_result"
    }
   ],
   "source": [
    "learner.validate(class_names=preproc.get_classes())"
   ]
  },
  {
   "cell_type": "markdown",
   "id": "representative-legislature",
   "metadata": {
    "id": "instrumental-attempt"
   },
   "source": [
    "### Prevendo novas frases"
   ]
  },
  {
   "cell_type": "code",
   "execution_count": 10,
   "id": "light-guatemala",
   "metadata": {
    "id": "higher-artwork"
   },
   "outputs": [],
   "source": [
    "predictor = ktrain.get_predictor(learner.model, preproc)"
   ]
  },
  {
   "cell_type": "code",
   "execution_count": 11,
   "id": "domestic-press",
   "metadata": {
    "colab": {
     "base_uri": "https://localhost:8080/"
    },
    "id": "strange-exploration",
    "outputId": "708fb605-a3ed-4243-9aa4-effedbb2d188"
   },
   "outputs": [
    {
     "data": {
      "text/plain": [
       "[('UPDATE', 'O'),\n",
       " ('from', 'O'),\n",
       " ('the', 'O'),\n",
       " ('ground', 'O'),\n",
       " ('-', 'O'),\n",
       " ('Photos', 'O'),\n",
       " ('just', 'O'),\n",
       " ('in', 'O'),\n",
       " ('from', 'O'),\n",
       " ('Marsh', 'B-LOC'),\n",
       " ('Harbour', 'I-LOC'),\n",
       " (',', 'O'),\n",
       " ('where', 'O'),\n",
       " ('we', 'O'),\n",
       " ('set', 'O'),\n",
       " ('up', 'O'),\n",
       " ('a', 'O'),\n",
       " ('water', 'O'),\n",
       " ('station', 'O'),\n",
       " ('at', 'O'),\n",
       " ('a', 'O'),\n",
       " ('local', 'O'),\n",
       " ('primary', 'O'),\n",
       " ('school', 'O'),\n",
       " ('.', 'O'),\n",
       " ('Marsh', 'B-LOC'),\n",
       " ('Harbour', 'I-LOC'),\n",
       " ('experienced', 'O'),\n",
       " ('the', 'O'),\n",
       " ('full', 'O'),\n",
       " ('force', 'O'),\n",
       " ('of', 'O'),\n",
       " ('#', 'O'),\n",
       " ('Hurricane', 'B-EVENT'),\n",
       " ('Dorian', 'I-EVENT'),\n",
       " (',', 'O'),\n",
       " ('&', 'O'),\n",
       " ('we', 'O'),\n",
       " ('use', 'O'),\n",
       " ('@', 'O'),\n",
       " ('katadyn', 'O'),\n",
       " ('reverse', 'O'),\n",
       " ('osmosis', 'O'),\n",
       " ('water', 'O'),\n",
       " ('treatment', 'O'),\n",
       " ('systems', 'O'),\n",
       " ('to', 'O'),\n",
       " ('purify', 'O'),\n",
       " ('salt', 'O'),\n",
       " ('water', 'O'),\n",
       " ('into', 'O'),\n",
       " ('drinking', 'O'),\n",
       " ('water', 'O'),\n",
       " ('.', 'O')]"
      ]
     },
     "execution_count": 11,
     "metadata": {
      "tags": []
     },
     "output_type": "execute_result"
    }
   ],
   "source": [
    "predictor.predict('UPDATE from the ground- Photos just in from Marsh Harbour, where we set up a water station at a local primary school. Marsh Harbour experienced the full force of # Hurricane Dorian, & we use @katadyn reverse osmosis water treatment systems to  purify salt water into drinking water.')"
   ]
  },
  {
   "cell_type": "code",
   "execution_count": 11,
   "id": "connected-error",
   "metadata": {
    "id": "accurate-inventory"
   },
   "outputs": [],
   "source": []
  }
 ],
 "metadata": {
  "accelerator": "GPU",
  "colab": {
   "collapsed_sections": [],
   "name": "BILSTM.ipynb",
   "provenance": [],
   "toc_visible": true
  },
  "kernelspec": {
   "display_name": "Python 3",
   "language": "python",
   "name": "python3"
  },
  "language_info": {
   "codemirror_mode": {
    "name": "ipython",
    "version": 3
   },
   "file_extension": ".py",
   "mimetype": "text/x-python",
   "name": "python",
   "nbconvert_exporter": "python",
   "pygments_lexer": "ipython3",
   "version": "3.8.5"
  }
 },
 "nbformat": 4,
 "nbformat_minor": 5
}
