{
 "cells": [
  {
   "cell_type": "code",
   "execution_count": 1,
   "id": "environmental-venice",
   "metadata": {
    "id": "national-nicaragua"
   },
   "outputs": [],
   "source": [
    "import os\n",
    "os.environ['DISABLE_V2_BEHAVIOR'] = '1'"
   ]
  },
  {
   "cell_type": "code",
   "execution_count": 2,
   "id": "common-pepper",
   "metadata": {
    "id": "recent-jordan"
   },
   "outputs": [],
   "source": [
    "import warnings\n",
    "warnings.filterwarnings('ignore')"
   ]
  },
  {
   "cell_type": "code",
   "execution_count": 5,
   "id": "governing-dealing",
   "metadata": {
    "colab": {
     "base_uri": "https://localhost:8080/"
    },
    "id": "wound-slovakia",
    "outputId": "ca2b5a25-5478-4273-f192-5d6402838d70"
   },
   "outputs": [
    {
     "name": "stdout",
     "output_type": "stream",
     "text": [
      "WARNING:tensorflow:From /usr/local/lib/python3.7/dist-packages/tensorflow/python/compat/v2_compat.py:96: disable_resource_variables (from tensorflow.python.ops.variable_scope) is deprecated and will be removed in a future version.\n",
      "Instructions for updating:\n",
      "non-resource variables are not supported in the long term\n",
      "Using DISABLE_V2_BEHAVIOR with TensorFlow\n"
     ]
    }
   ],
   "source": [
    "import ktrain\n",
    "from ktrain import text as txt"
   ]
  },
  {
   "cell_type": "code",
   "execution_count": 6,
   "id": "varied-transcript",
   "metadata": {
    "colab": {
     "base_uri": "https://localhost:8080/"
    },
    "id": "related-hawaii",
    "outputId": "6ae2e4cb-3c7c-46d4-e83d-8c8ed5062e70"
   },
   "outputs": [
    {
     "name": "stdout",
     "output_type": "stream",
     "text": [
      "detected encoding: utf-8 (if wrong, set manually)\n",
      "Number of sentences:  28834\n",
      "Number of words in the dataset:  63950\n",
      "Tags: ['I-EVENT', 'B-TIME', 'B-LOC', 'I-ORG', 'O', 'I-MONEY', 'I-PERCENT', 'B-WORK_OF_ART', 'B-NORP', 'B-PERCENT', 'B-CARDINAL', 'I-NORP', 'B-LAW', 'B-PRODUCT', 'I-DATE', 'B-LANGUAGE', 'I-LOC', 'B-EVENT', 'I-WORK_OF_ART', 'B-PER', 'I-TIME', 'I-PRODUCT', 'I-PER', 'B-QUANTITY', 'B-ORG', 'I-QUANTITY', 'B-ORDINAL', 'B-DATE', 'B-MONEY', 'I-LAW', 'I-CARDINAL']\n",
      "Number of Labels:  31\n",
      "Longest sentence: 74 words\n"
     ]
    }
   ],
   "source": [
    "# load data\n",
    "(trn, val, preproc) = txt.entities_from_txt('data/DATA_ANNOTATED.csv',\n",
    "                                            sentence_column='Sentence',\n",
    "                                            word_column='Word',\n",
    "                                            tag_column='Tag', \n",
    "                                            data_format='gmb',\n",
    "                                            use_char=True)"
   ]
  },
  {
   "cell_type": "code",
   "execution_count": 7,
   "id": "naughty-haven",
   "metadata": {
    "colab": {
     "base_uri": "https://localhost:8080/"
    },
    "id": "surrounded-swing",
    "outputId": "84193080-4a3e-481d-a379-d5417a6aeb78"
   },
   "outputs": [
    {
     "name": "stdout",
     "output_type": "stream",
     "text": [
      "Embedding schemes employed (combined with concatenation):\n",
      "\tword embeddings initialized randomly\n",
      "\tcharacter embeddings\n",
      "\n"
     ]
    }
   ],
   "source": [
    "model = txt.sequence_tagger('bilstm-crf', preproc)"
   ]
  },
  {
   "cell_type": "code",
   "execution_count": 8,
   "id": "monthly-livestock",
   "metadata": {
    "id": "analyzed-flower"
   },
   "outputs": [],
   "source": [
    "learner = ktrain.get_learner(model, train_data=trn, val_data=val)"
   ]
  },
  {
   "cell_type": "code",
   "execution_count": 16,
   "id": "straight-insured",
   "metadata": {
    "colab": {
     "base_uri": "https://localhost:8080/",
     "height": 456
    },
    "id": "bxVZhPCCVDeO",
    "outputId": "8e5a49a8-88f6-46c1-c0b1-6cce5d2f902f"
   },
   "outputs": [
    {
     "name": "stdout",
     "output_type": "stream",
     "text": [
      "simulating training for different learning rates... this may take a few moments...\n",
      "Epoch 1/2\n",
      "810/810 [==============================] - 234s 283ms/step - batch: 404.5000 - size: 31.9975 - loss: 8.2701\n",
      "Epoch 2/2\n",
      "810/810 [==============================] - 210s 259ms/step - batch: 369.5000 - size: 31.9973 - loss: 12.6498\n",
      "\n",
      "\n",
      "done.\n",
      "Visually inspect loss plot and select learning rate associated with falling loss\n"
     ]
    },
    {
     "data": {
      "image/png": "[encoded data removed]",
      "text/plain": [
       "<Figure size 432x288 with 1 Axes>"
      ]
     },
     "metadata": {
      "needs_background": "light",
      "tags": []
     },
     "output_type": "display_data"
    }
   ],
   "source": [
    "learner.lr_find(show_plot=True, max_epochs=2)"
   ]
  },
  {
   "cell_type": "code",
   "execution_count": 9,
   "id": "stopped-admission",
   "metadata": {
    "colab": {
     "base_uri": "https://localhost:8080/"
    },
    "id": "satellite-narrative",
    "outputId": "06bc4831-9d4b-4b96-ee4b-511eb94376e8"
   },
   "outputs": [
    {
     "name": "stdout",
     "output_type": "stream",
     "text": [
      "preparing training data ...done.\n",
      "preparing validation data ...done.\n",
      "Epoch 1/6\n",
      "811/811 [==============================] - 248s 298ms/step - batch: 405.0000 - size: 31.9975 - loss: 8.7916 - val_loss: 8.4679\n",
      "Epoch 2/6\n",
      "811/811 [==============================] - 244s 301ms/step - batch: 405.0000 - size: 31.9975 - loss: 8.4437 - val_loss: 8.3904\n",
      "Epoch 3/6\n",
      "811/811 [==============================] - 239s 294ms/step - batch: 405.0000 - size: 31.9975 - loss: 8.3789 - val_loss: 8.3847\n",
      "Epoch 4/6\n",
      "811/811 [==============================] - 243s 300ms/step - batch: 405.0000 - size: 31.9975 - loss: 8.3624 - val_loss: 8.3501\n",
      "Epoch 5/6\n",
      "811/811 [==============================] - 242s 298ms/step - batch: 405.0000 - size: 31.9975 - loss: 8.3001 - val_loss: 8.3392\n",
      "Epoch 6/6\n",
      "811/811 [==============================] - 238s 293ms/step - batch: 405.0000 - size: 31.9975 - loss: 8.2717 - val_loss: 8.3420\n"
     ]
    }
   ],
   "source": [
    "history = learner.fit(lr=1e-3, n_cycles=2, cycle_len=3) "
   ]
  },
  {
   "cell_type": "code",
   "execution_count": 10,
   "id": "viral-registrar",
   "metadata": {
    "colab": {
     "base_uri": "https://localhost:8080/"
    },
    "id": "bearing-commissioner",
    "outputId": "265d5afc-b375-445d-a376-8affd2a0a0ad"
   },
   "outputs": [
    {
     "name": "stdout",
     "output_type": "stream",
     "text": [
      "   F1:  66.47\n",
      "              precision    recall  f1-score   support\n",
      "\n",
      "    CARDINAL       0.65      0.79      0.71       511\n",
      "        DATE       0.72      0.75      0.73       844\n",
      "       EVENT       0.43      0.36      0.39       110\n",
      "    LANGUAGE       0.00      0.00      0.00         2\n",
      "         LAW       0.00      0.00      0.00         7\n",
      "         LOC       0.76      0.76      0.76      1270\n",
      "       MONEY       0.00      0.00      0.00        10\n",
      "        NORP       0.80      0.75      0.77       135\n",
      "     ORDINAL       0.89      0.91      0.90       175\n",
      "         ORG       0.52      0.47      0.49       735\n",
      "         PER       0.66      0.62      0.64      1537\n",
      "     PERCENT       0.00      0.00      0.00         1\n",
      "     PRODUCT       0.12      0.02      0.03        64\n",
      "    QUANTITY       0.49      0.39      0.43        57\n",
      "        TIME       0.73      0.67      0.70       322\n",
      " WORK_OF_ART       0.11      0.03      0.05       139\n",
      "\n",
      "   micro avg       0.68      0.65      0.66      5919\n",
      "   macro avg       0.43      0.41      0.41      5919\n",
      "weighted avg       0.66      0.65      0.65      5919\n",
      "\n"
     ]
    },
    {
     "data": {
      "text/plain": [
       "0.6646536105599172"
      ]
     },
     "execution_count": 10,
     "metadata": {
      "tags": []
     },
     "output_type": "execute_result"
    }
   ],
   "source": [
    "learner.validate(class_names=preproc.get_classes())"
   ]
  },
  {
   "cell_type": "markdown",
   "id": "considered-cardiff",
   "metadata": {
    "id": "instrumental-attempt"
   },
   "source": [
    "### Prevendo novas frases"
   ]
  },
  {
   "cell_type": "code",
   "execution_count": 11,
   "id": "foster-ceiling",
   "metadata": {
    "id": "higher-artwork"
   },
   "outputs": [],
   "source": [
    "predictor = ktrain.get_predictor(learner.model, preproc)"
   ]
  },
  {
   "cell_type": "code",
   "execution_count": 14,
   "id": "processed-device",
   "metadata": {
    "colab": {
     "base_uri": "https://localhost:8080/"
    },
    "id": "strange-exploration",
    "outputId": "8f2cefb3-ce7a-41dc-8d58-68079c211806"
   },
   "outputs": [
    {
     "data": {
      "text/plain": [
       "[('UPDATE', 'O'),\n",
       " ('from', 'O'),\n",
       " ('the', 'O'),\n",
       " ('ground', 'O'),\n",
       " ('-', 'O'),\n",
       " ('Photos', 'O'),\n",
       " ('just', 'O'),\n",
       " ('in', 'O'),\n",
       " ('from', 'O'),\n",
       " ('Marsh', 'B-LOC'),\n",
       " ('Harbour', 'I-LOC'),\n",
       " (',', 'O'),\n",
       " ('where', 'O'),\n",
       " ('we', 'O'),\n",
       " ('set', 'O'),\n",
       " ('up', 'O'),\n",
       " ('a', 'O'),\n",
       " ('water', 'O'),\n",
       " ('station', 'O'),\n",
       " ('at', 'O'),\n",
       " ('a', 'O'),\n",
       " ('local', 'O'),\n",
       " ('primary', 'O'),\n",
       " ('school', 'O'),\n",
       " ('.', 'O'),\n",
       " ('Marsh', 'B-LOC'),\n",
       " ('Harbour', 'I-LOC'),\n",
       " ('experienced', 'O'),\n",
       " ('the', 'O'),\n",
       " ('full', 'O'),\n",
       " ('force', 'O'),\n",
       " ('of', 'O'),\n",
       " ('#', 'O'),\n",
       " ('Hurricane', 'B-EVENT'),\n",
       " ('Dorian', 'I-EVENT'),\n",
       " (',', 'O'),\n",
       " ('&', 'O'),\n",
       " ('we', 'O'),\n",
       " ('use', 'O'),\n",
       " ('@', 'O'),\n",
       " ('katadyn', 'O'),\n",
       " ('reverse', 'O'),\n",
       " ('osmosis', 'O'),\n",
       " ('water', 'O'),\n",
       " ('treatment', 'O'),\n",
       " ('systems', 'O'),\n",
       " ('to', 'O'),\n",
       " ('purify', 'O'),\n",
       " ('salt', 'O'),\n",
       " ('water', 'O'),\n",
       " ('into', 'O'),\n",
       " ('drinking', 'O'),\n",
       " ('water', 'O'),\n",
       " ('.', 'O')]"
      ]
     },
     "execution_count": 14,
     "metadata": {
      "tags": []
     },
     "output_type": "execute_result"
    }
   ],
   "source": [
    "predictor.predict('UPDATE from the ground- Photos just in from Marsh Harbour, where we set up a water station at a local primary school. Marsh Harbour experienced the full force of # Hurricane Dorian, & we use @katadyn reverse osmosis water treatment systems to  purify salt water into drinking water.')"
   ]
  },
  {
   "cell_type": "code",
   "execution_count": null,
   "id": "material-flesh",
   "metadata": {
    "id": "accurate-inventory"
   },
   "outputs": [],
   "source": []
  }
 ],
 "metadata": {
  "accelerator": "GPU",
  "colab": {
   "collapsed_sections": [],
   "name": "BILSTM.ipynb",
   "provenance": [],
   "toc_visible": true
  },
  "kernelspec": {
   "display_name": "Python 3",
   "language": "python",
   "name": "python3"
  },
  "language_info": {
   "codemirror_mode": {
    "name": "ipython",
    "version": 3
   },
   "file_extension": ".py",
   "mimetype": "text/x-python",
   "name": "python",
   "nbconvert_exporter": "python",
   "pygments_lexer": "ipython3",
   "version": "3.8.5"
  }
 },
 "nbformat": 4,
 "nbformat_minor": 5
}
