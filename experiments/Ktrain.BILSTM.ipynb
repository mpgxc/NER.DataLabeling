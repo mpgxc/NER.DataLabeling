{
 "cells": [
  {
   "cell_type": "code",
   "execution_count": null,
   "id": "utility-appointment",
   "metadata": {
    "id": "national-nicaragua"
   },
   "outputs": [],
   "source": [
    "import os\n",
    "os.environ['DISABLE_V2_BEHAVIOR'] = '1'"
   ]
  },
  {
   "cell_type": "code",
   "execution_count": null,
   "id": "gentle-seafood",
   "metadata": {
    "id": "recent-jordan"
   },
   "outputs": [],
   "source": [
    "import warnings\n",
    "warnings.filterwarnings('ignore')"
   ]
  },
  {
   "cell_type": "code",
   "execution_count": null,
   "id": "common-prior",
   "metadata": {
    "colab": {
     "base_uri": "https://localhost:8080/"
    },
    "id": "wound-slovakia",
    "outputId": "eec7685d-4632-43bc-ca5d-540f36308ffd"
   },
   "outputs": [],
   "source": [
    "import ktrain\n",
    "from ktrain import text as txt"
   ]
  },
  {
   "cell_type": "code",
   "execution_count": null,
   "id": "miniature-species",
   "metadata": {
    "colab": {
     "base_uri": "https://localhost:8080/"
    },
    "id": "related-hawaii",
    "outputId": "526c96cf-3d6f-4f0e-c076-9e0f84014dd8"
   },
   "outputs": [],
   "source": [
    "# load data\n",
    "(trn, val, preproc) = txt.entities_from_txt('data/custom/DATA_ANNOTATED.csv',\n",
    "                                            sentence_column='Sentence',\n",
    "                                            word_column='Word',\n",
    "                                            tag_column='Tag', \n",
    "                                            data_format='gmb',\n",
    "                                            use_char=True)"
   ]
  },
  {
   "cell_type": "code",
   "execution_count": null,
   "id": "generous-glory",
   "metadata": {
    "colab": {
     "base_uri": "https://localhost:8080/"
    },
    "id": "surrounded-swing",
    "outputId": "54021879-95c5-4390-e0ac-c93ba6266382"
   },
   "outputs": [],
   "source": [
    "model = txt.sequence_tagger('bilstm-crf', preproc)"
   ]
  },
  {
   "cell_type": "code",
   "execution_count": null,
   "id": "portuguese-miniature",
   "metadata": {
    "id": "analyzed-flower"
   },
   "outputs": [],
   "source": [
    "learner = ktrain.get_learner(model, train_data=trn, val_data=val)"
   ]
  },
  {
   "cell_type": "code",
   "execution_count": null,
   "id": "compound-sarah",
   "metadata": {
    "colab": {
     "base_uri": "https://localhost:8080/",
     "height": 453
    },
    "id": "bxVZhPCCVDeO",
    "outputId": "3eef9e6c-4faa-4d73-944e-9237cb02a72d"
   },
   "outputs": [],
   "source": [
    "learner.lr_find(show_plot=True, max_epochs=2)"
   ]
  },
  {
   "cell_type": "code",
   "execution_count": null,
   "id": "atomic-morocco",
   "metadata": {
    "colab": {
     "base_uri": "https://localhost:8080/"
    },
    "id": "satellite-narrative",
    "outputId": "ef5b96cd-35db-4f3e-af87-d6a76babf780"
   },
   "outputs": [],
   "source": [
    "history = learner.fit(lr=1e-2, n_cycles=2, cycle_len=7) "
   ]
  },
  {
   "cell_type": "code",
   "execution_count": null,
   "id": "compact-moment",
   "metadata": {
    "colab": {
     "base_uri": "https://localhost:8080/"
    },
    "id": "bearing-commissioner",
    "outputId": "17fadbd9-b438-4f7e-db08-520fcb39214c"
   },
   "outputs": [],
   "source": [
    "learner.validate(class_names=preproc.get_classes())"
   ]
  },
  {
   "cell_type": "markdown",
   "id": "burning-interference",
   "metadata": {
    "id": "instrumental-attempt"
   },
   "source": [
    "### Prevendo novas frases"
   ]
  },
  {
   "cell_type": "code",
   "execution_count": null,
   "id": "turned-bankruptcy",
   "metadata": {
    "id": "higher-artwork"
   },
   "outputs": [],
   "source": [
    "predictor = ktrain.get_predictor(learner.model, preproc)"
   ]
  },
  {
   "cell_type": "code",
   "execution_count": null,
   "id": "satisfied-characteristic",
   "metadata": {
    "colab": {
     "base_uri": "https://localhost:8080/"
    },
    "id": "strange-exploration",
    "outputId": "708fb605-a3ed-4243-9aa4-effedbb2d188"
   },
   "outputs": [],
   "source": [
    "predictor.predict('UPDATE from the ground- Photos just in from Marsh Harbour, where we set up a water station at a local primary school. Marsh Harbour experienced the full force of # Hurricane Dorian, & we use @katadyn reverse osmosis water treatment systems to  purify salt water into drinking water.')"
   ]
  },
  {
   "cell_type": "code",
   "execution_count": null,
   "id": "taken-possible",
   "metadata": {
    "id": "accurate-inventory"
   },
   "outputs": [],
   "source": []
  }
 ],
 "metadata": {
  "accelerator": "GPU",
  "colab": {
   "collapsed_sections": [],
   "name": "BILSTM.ipynb",
   "provenance": [],
   "toc_visible": true
  },
  "kernelspec": {
   "display_name": "Python 3",
   "language": "python",
   "name": "python3"
  },
  "language_info": {
   "codemirror_mode": {
    "name": "ipython",
    "version": 3
   },
   "file_extension": ".py",
   "mimetype": "text/x-python",
   "name": "python",
   "nbconvert_exporter": "python",
   "pygments_lexer": "ipython3",
   "version": "3.8.8"
  }
 },
 "nbformat": 4,
 "nbformat_minor": 5
}
